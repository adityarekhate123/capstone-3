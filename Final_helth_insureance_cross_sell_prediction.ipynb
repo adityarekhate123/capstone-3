{
  "nbformat": 4,
  "nbformat_minor": 0,
  "metadata": {
    "colab": {
      "private_outputs": true,
      "provenance": [],
      "collapsed_sections": [
        "vncDsAP0Gaoa",
        "FJNUwmbgGyua",
        "w6K7xa23Elo4",
        "yQaldy8SH6Dl"
      ],
      "include_colab_link": true
    },
    "kernelspec": {
      "name": "python3",
      "display_name": "Python 3"
    },
    "language_info": {
      "name": "python"
    }
  },
  "cells": [
    {
      "cell_type": "markdown",
      "metadata": {
        "id": "view-in-github",
        "colab_type": "text"
      },
      "source": [
        "<a href=\"https://colab.research.google.com/github/adityarekhate123/capstone-3/blob/main/Final_helth_insureance_cross_sell_prediction.ipynb\" target=\"_parent\"><img src=\"https://colab.research.google.com/assets/colab-badge.svg\" alt=\"Open In Colab\"/></a>"
      ]
    },
    {
      "cell_type": "markdown",
      "source": [
        "# **Project Name**    - Health Insurance Cross Sell Prediction\n",
        "\n"
      ],
      "metadata": {
        "id": "vncDsAP0Gaoa"
      }
    },
    {
      "cell_type": "markdown",
      "source": [],
      "metadata": {
        "id": "lXHG6-ayc5Pc"
      }
    },
    {
      "cell_type": "markdown",
      "source": [
        "##### **Project Type**    - Classification\n",
        "##### **Contribution**    - Individual\n",
        "##### **Team Member 1** - Aditya Rekhate\n"
      ],
      "metadata": {
        "id": "beRrZCGUAJYm"
      }
    },
    {
      "cell_type": "markdown",
      "source": [
        "# **Project Summary -**-https://docs.google.com/document/d/1oqtw2b6MvNPMrOmF-Je-0ITKu2CTPp7e/edit?usp=drivesdk&ouid=100465335030925697345&rtpof=true&sd=true \n",
        "\n"
      ],
      "metadata": {
        "id": "FJNUwmbgGyua"
      }
    },
    {
      "cell_type": "markdown",
      "source": [],
      "metadata": {
        "id": "F6v_1wHtG2nS"
      }
    },
    {
      "cell_type": "markdown",
      "source": [
        "# **GitHub Link -**---https://github.com/adityarekhate123/capstone-3"
      ],
      "metadata": {
        "id": "w6K7xa23Elo4"
      }
    },
    {
      "cell_type": "markdown",
      "source": [
        "Provide your GitHub Link here."
      ],
      "metadata": {
        "id": "h1o69JH3Eqqn"
      }
    },
    {
      "cell_type": "markdown",
      "source": [
        "# **Problem Statement**\n"
      ],
      "metadata": {
        "id": "yQaldy8SH6Dl"
      }
    },
    {
      "cell_type": "markdown",
      "source": [
        "Our client is an Insurance company that has provided Health Insurance to its customers now they need your help in building a model to predict whether the policyholders (customers) from past year will also be interested in Vehicle Insurance provided by the company.\n",
        "\n",
        "An insurance policy is an arrangement by which a company undertakes to provide a guarantee of compensation for specified loss, damage, illness, or death in return for the payment of a specified premium. A premium is a sum of money that the customer needs to pay regularly to an insurance company for this guarantee.\n",
        "\n",
        "For example, you may pay a premium of Rs. 5000 each year for a health insurance cover of Rs. 200,000/- so that if, God forbid, you fall ill and need to be hospitalised in that year, the insurance provider company will bear the cost of hospitalisation etc. for upto Rs. 200,000. Now if you are wondering how can company bear such high hospitalisation cost when it charges a premium of only Rs. 5000/-, that is where the concept of probabilities comes in picture. For example, like you, there may be 100 customers who would be paying a premium of Rs. 5000 every year, but only a few of them (say 2-3) would get hospitalised that year and not everyone. This way everyone shares the risk of everyone else.\n",
        "\n",
        "Just like medical insurance, there is vehicle insurance where every year customer needs to pay a premium of certain amount to insurance provider company so that in case of unfortunate accident by the vehicle, the insurance provider company will provide a compensation (called ‘sum assured’) to the customer.\n",
        "\n",
        "Building a model to predict whether a customer would be interested in Vehicle Insurance is extremely helpful for the company because it can then accordingly plan its communication strategy to reach out to those customers and optimise its business model and revenue.\n",
        "\n",
        "Now, in order to predict, whether the customer would be interested in Vehicle insurance, you have information about demographics (gender, age, region code type), Vehicles (Vehicle Age, Damage), Policy (Premium, sourcing channel) etc."
      ],
      "metadata": {
        "id": "DpeJGUA3kjGy"
      }
    },
    {
      "cell_type": "markdown",
      "source": [
        "# **Business Context**\n",
        "<br> Our client is an Insurance company that has provided Health Insurance to its customers now they need your help in building a model to predict whether the policyholders (customers) from past year will also be interested in Vehicle Insurance provided by the company.\n",
        "\n",
        "An insurance policy is an arrangement by which a company undertakes to provide a guarantee of compensation for specified loss, damage, illness, or death in return for the payment of a specified premium. A premium is a sum of money that the customer needs to pay regularly to an insurance company for this guarantee.\n",
        "Just like medical insurance, there is vehicle insurance where every year customer needs to pay a premium of certain amount to insurance provider company so that in case of unfortunate accident by the vehicle, the insurance provider company will provide a compensation (called ‘sum assured’) to the customer."
      ],
      "metadata": {
        "id": "NvgmYmbOmWuq"
      }
    },
    {
      "cell_type": "markdown",
      "source": [
        "\n",
        "## Data Description\n",
        "<br>In order to predict, whether the customer would be interested in Vehicle insurance, you have information about demographics (gender, age, region code type), Vehicles (Vehicle Age, Damage), Policy (Premium, sourcing channel) etc.\n",
        "<br>**Attribute Information**:\n",
        "<br>**id:**\tUnique ID for the customer\n",
        "<br>**Gender:**\tGender of the customer\n",
        "<br>**Age:**\tAge of the customer\n",
        "<br>**Driving_License:** 0 : Customer does not have DL, 1 : Customer already has DL\n",
        "<br>**Region_Code:**\tUnique code for the region of the customer\n",
        "<br>**Previously_Insured:**\t1 : Customer already has Vehicle Insurance, 0 : Customer doesn't have Vehicle Insurance\n",
        "<br>**Vehicle_Age:**\tAge of the Vehicle\n",
        "<br>**Vehicle_Damage:**\t1 : Customer got his/her vehicle damaged in the past. 0 : Customer didn't get his/her vehicle damaged in the past.\n",
        "<br>**Annual_Premium:**\tThe amount customer needs to pay as premium in the year\n",
        "<br>**Policy_Sales_Channel:**\tAnonymized Code for the channel of outreaching to the customer ie. Different Agents, Over Mail, Over Phone, In Person, etc.\n",
        "<br>**Vintage:**\tNumber of Days, Customer has been associated with the company\n",
        "<br>**Response:**\t1 : Customer is interested, 0 : Customer is not interested"
      ],
      "metadata": {
        "id": "D5pZrpj-N-zh"
      }
    },
    {
      "cell_type": "markdown",
      "source": [
        "# ***Let's Begin !***"
      ],
      "metadata": {
        "id": "O_i_v8NEhb9l"
      }
    },
    {
      "cell_type": "markdown",
      "source": [
        "### Import Libraries"
      ],
      "metadata": {
        "id": "Y3lxredqlCYt"
      }
    },
    {
      "cell_type": "code",
      "source": [
        "# Import Libraries\n",
        "import pandas as pd\n",
        "import numpy as np\n",
        "import seaborn as sns\n",
        "import matplotlib.pyplot as plt\n",
        "from sklearn.model_selection import train_test_split\n",
        "from sklearn.preprocessing import LabelEncoder \n",
        "from sklearn.model_selection import train_test_split\n",
        "from imblearn.over_sampling import RandomOverSampler\n",
        "from collections import Counter\n",
        "from sklearn.preprocessing import StandardScaler\n",
        "from sklearn.linear_model import LogisticRegression\n",
        "from sklearn.ensemble import ExtraTreesClassifier\n",
        "from sklearn.model_selection import RandomizedSearchCV\n",
        "from sklearn.metrics import precision_score,recall_score,accuracy_score,f1_score,confusion_matrix,auc,roc_auc_score,classification_report\n",
        "from sklearn.ensemble import RandomForestClassifier\n",
        "from xgboost import XGBClassifier\n",
        "from imblearn.over_sampling import SMOTE\n",
        "from sklearn.model_selection import GridSearchCV"
      ],
      "metadata": {
        "id": "M8Vqi-pPk-HR"
      },
      "execution_count": null,
      "outputs": []
    },
    {
      "cell_type": "markdown",
      "source": [
        "# Dataset Loading"
      ],
      "metadata": {
        "id": "gWTAjJDxT6OD"
      }
    },
    {
      "cell_type": "code",
      "source": [
        "#DATA SET LOADING\n",
        "df=pd.read_csv(r\"/content/TRAIN-HEALTH INSURANCE CROSS SELL PREDICTION (1).csv\")"
      ],
      "metadata": {
        "id": "BvIo1SMfuPNi"
      },
      "execution_count": null,
      "outputs": []
    },
    {
      "cell_type": "code",
      "source": [
        "#TOP 5 ROWS OF THE DATASET\n",
        "df.head()"
      ],
      "metadata": {
        "id": "9XkHne0quX5S"
      },
      "execution_count": null,
      "outputs": []
    },
    {
      "cell_type": "markdown",
      "source": [
        "### Dataset Rows & Columns count"
      ],
      "metadata": {
        "id": "QolOnirgUGw5"
      }
    },
    {
      "cell_type": "code",
      "source": [
        "# Dataset Rows & Columns count\n",
        "print(\"Dataset consist \", df.shape[0],\" rows and \",df.shape[1],\"columns.\")"
      ],
      "metadata": {
        "id": "r6Xa2JeiOacW"
      },
      "execution_count": null,
      "outputs": []
    },
    {
      "cell_type": "markdown",
      "source": [
        "### Dataset Information"
      ],
      "metadata": {
        "id": "PIw8mLqEUMAa"
      }
    },
    {
      "cell_type": "code",
      "source": [
        "#DATA SET INFORMATIN \n",
        "df.info()"
      ],
      "metadata": {
        "id": "PvFmvZvIuXxY"
      },
      "execution_count": null,
      "outputs": []
    },
    {
      "cell_type": "markdown",
      "source": [
        "## ***2. Understanding Your Variables***"
      ],
      "metadata": {
        "id": "yzrKjnh7Q6tS"
      }
    },
    {
      "cell_type": "code",
      "source": [
        "#DATASET COLUMNS\n",
        "df.columns"
      ],
      "metadata": {
        "id": "vNHpteZWQ9Q6"
      },
      "execution_count": null,
      "outputs": []
    },
    {
      "cell_type": "markdown",
      "source": [
        "**Observation**\n",
        "\n",
        "\n",
        "\n",
        "*   As we can see, our data set contains 381109 rows and 12 columns.\n",
        "*   We do not have any Null Values in our dataset.\n",
        "*   Our dependent feature is a categorical column (Response)"
      ],
      "metadata": {
        "id": "5Ec6DWjcUWYH"
      }
    },
    {
      "cell_type": "code",
      "source": [
        "#STATS VIEW OF DATASET\n",
        "df.describe()"
      ],
      "metadata": {
        "id": "8aWow9PEUwAo"
      },
      "execution_count": null,
      "outputs": []
    },
    {
      "cell_type": "markdown",
      "source": [
        "**Observation**\n",
        "\n",
        "(1) The customers age ranges from 20 to 85, however the 75% of the customer is in range of 20 to 49 years.\n",
        "\n",
        "(2) The minimum annual premium value is 2630 and goes up to 540165, however the 75% of people pays the premium in range of 2630 to 39400. For top 25% of customer the variation range is vary high.\n",
        "\n",
        "(3)vintage value varies in range of 10 to 299."
      ],
      "metadata": {
        "id": "3k0a_TGhU4k_"
      }
    },
    {
      "cell_type": "code",
      "source": [
        "#CHECKING FOR NULL VALUES\n",
        "df.isnull().sum()"
      ],
      "metadata": {
        "id": "p7617IkquXsE"
      },
      "execution_count": null,
      "outputs": []
    },
    {
      "cell_type": "markdown",
      "source": [
        "### What did you know about your dataset?"
      ],
      "metadata": {
        "id": "E_cFTcrdQYWa"
      }
    },
    {
      "cell_type": "markdown",
      "source": [
        "**There is no duplicate and missing value present in the given dataset.**"
      ],
      "metadata": {
        "id": "_zjq0kcIQpF_"
      }
    },
    {
      "cell_type": "markdown",
      "source": [
        "#### Duplicate Values"
      ],
      "metadata": {
        "id": "pqHX6EcrUcuY"
      }
    },
    {
      "cell_type": "code",
      "source": [
        "#CHECKING FOR DUPLICATE VALUE\n",
        "df.duplicated().sum()"
      ],
      "metadata": {
        "id": "-VzaggRtuXpS"
      },
      "execution_count": null,
      "outputs": []
    },
    {
      "cell_type": "markdown",
      "source": [
        "**Inference**\n",
        "\n",
        "we can see that in our dataset there is no duplicate values are present"
      ],
      "metadata": {
        "id": "fpUay8PlUhPw"
      }
    },
    {
      "cell_type": "markdown",
      "source": [
        "###**2. EXPLORATORY DATA ANALYSIS**"
      ],
      "metadata": {
        "id": "J04y4kclu6u1"
      }
    },
    {
      "cell_type": "markdown",
      "source": [
        "**Check Unique Values for each variable.**"
      ],
      "metadata": {
        "id": "4ZODYyYoU_t_"
      }
    },
    {
      "cell_type": "code",
      "source": [
        "#COUNTING THE RESPONCE\n",
        "df.Response.value_counts()"
      ],
      "metadata": {
        "id": "-s0Rts0wuXmY"
      },
      "execution_count": null,
      "outputs": []
    },
    {
      "cell_type": "code",
      "source": [
        "# CHECK UNIQUE VALUE FOR ALL FEATURE\n",
        "cat_feat = ['Gender', 'Driving_License', 'Region_Code',\n",
        "            'Previously_Insured', 'Vehicle_Age', 'Vehicle_Damage', \n",
        "            'Policy_Sales_Channel', 'Response']\n",
        "\n",
        "for feat in cat_feat:\n",
        "    print(feat)\n",
        "    try:\n",
        "        print(df[feat].value_counts())\n",
        "    except KeyError:\n",
        "        print(\"KeyError: Feature not found in dataframe.\")\n",
        "    except TypeError:\n",
        "        print(\"TypeError: Feature is not categorical.\")\n",
        "    print(\"-\"*50)"
      ],
      "metadata": {
        "id": "Wb-96CAoCHAE"
      },
      "execution_count": null,
      "outputs": []
    },
    {
      "cell_type": "code",
      "source": [
        "#PLOT FOR WIILING TO CUSTOMER GETTING AN INSURANCE\n",
        "sns.countplot(x=df['Response'],data=df)\n",
        "plt.show()"
      ],
      "metadata": {
        "id": "O1D_MCcEuXjy"
      },
      "execution_count": null,
      "outputs": []
    },
    {
      "cell_type": "code",
      "source": [],
      "metadata": {
        "id": "fkKq3m43VkzH"
      },
      "execution_count": null,
      "outputs": []
    },
    {
      "cell_type": "markdown",
      "source": [
        "1.**Why did you pick the specific chart?**\n",
        "\n",
        "**Answer**: Since our target variable belongs to two categories i.e., classification task. To count the number of data belongs to which category the count plot is most suitable."
      ],
      "metadata": {
        "id": "eU1xhWnuvFP5"
      }
    },
    {
      "cell_type": "markdown",
      "source": [
        "**2. What is/are the insight(s) found from the chart?**\n",
        "\n",
        "1) Total 334399 customers are not interested and 46710 customers are interested in the vehicle insurance.\n",
        "\n",
        "2) This is clearly a case of class imbalance where most of the customer are not interested ."
      ],
      "metadata": {
        "id": "-Y5ixJg8vE8x"
      }
    },
    {
      "cell_type": "code",
      "source": [
        "#CREATE FUNCTION FOR VISUALIZE MALE VS FEMALES\n",
        "def male_vs_female(df):\n",
        "  sns.countplot(x=df['Gender'], hue = df['Response'],palette=\"hls\")\n",
        "  plt.title(\"Responses of Males vs that of females\")"
      ],
      "metadata": {
        "id": "py_unhxTuXg6"
      },
      "execution_count": null,
      "outputs": []
    },
    {
      "cell_type": "code",
      "source": [
        "#CALL THE FUNCTION\n",
        "male_vs_female(df)"
      ],
      "metadata": {
        "id": "n1MSPGc_uXeS"
      },
      "execution_count": null,
      "outputs": []
    },
    {
      "cell_type": "markdown",
      "source": [
        "**1.Why did you pick the specific chart?**\n",
        "\n",
        "**Answer:** needed count of the categorical variable so used countplot"
      ],
      "metadata": {
        "id": "yBzwIj4VvLPa"
      }
    },
    {
      "cell_type": "markdown",
      "source": [
        "**2. What is/are the insight(s) found from the chart?**\n",
        "* The gender variable in the dataset is almost equally distributed.\n",
        "* Male category is slightly greater than that of female and also  chances of buying the insurance is also little high.\n"
      ],
      "metadata": {
        "id": "kKCFvS_SvLEA"
      }
    },
    {
      "cell_type": "markdown",
      "source": [
        "**3. Will the gained insights help creating a positive business impact?\n",
        "Are there any insights that lead to negative growth? Justify with specific reason.**"
      ],
      "metadata": {
        "id": "jEeF8Fr9V2Zp"
      }
    },
    {
      "cell_type": "markdown",
      "source": [
        "**Answer :**\n",
        "<br> yes, male customers are more willing to buy the vehicle insurance as compared to females."
      ],
      "metadata": {
        "id": "X2Mh_WkvWHfg"
      }
    },
    {
      "cell_type": "code",
      "source": [
        "#PIE CHART FOR POSITIVE RESPONCE FROM MALE AND FEMALE\n",
        "def responce_male_vs_female(df):\n",
        "  df.groupby(['Gender']).sum().plot(\n",
        "  kind='pie', y='Response', autopct='%1.0f%%')\n",
        "  plt.title(\"Difference in responses of males and females\")"
      ],
      "metadata": {
        "id": "dARHfnVzuXWw"
      },
      "execution_count": null,
      "outputs": []
    },
    {
      "cell_type": "code",
      "source": [
        "#CALL THE CREATED FUNCTION\n",
        "responce_male_vs_female(df)"
      ],
      "metadata": {
        "id": "wa1JnGqbuXT5"
      },
      "execution_count": null,
      "outputs": []
    },
    {
      "cell_type": "markdown",
      "source": [
        "1.**Why did you pick the pie chart?**\n",
        "\n",
        "**Answer:** we want to know the percentageswise male and female are there so piechart is best option"
      ],
      "metadata": {
        "id": "v2PAMlEnvTxC"
      }
    },
    {
      "cell_type": "markdown",
      "source": [
        "**Inference**\n",
        "* This shows that 61% of males and 39% of females are interested in getting an insurance"
      ],
      "metadata": {
        "id": "CzuZHLU2vTrM"
      }
    },
    {
      "cell_type": "code",
      "source": [
        "#PLOT FOR POSITIVE AND NIGATIVE RESPONCE FOR VARIOUSE AGES GROUP\n",
        "def age_responce(df):\n",
        "  plt.figure(figsize=(20,10))\n",
        "  sns.countplot(x='Age',hue='Response',data=df, palette=\"rocket\")\n",
        "  plt.title(\"Plot of age vs response\")"
      ],
      "metadata": {
        "id": "04ZQ8RaKvVsQ"
      },
      "execution_count": null,
      "outputs": []
    },
    {
      "cell_type": "code",
      "source": [
        "#CALL THE FUNCTION\n",
        "age_responce(df)"
      ],
      "metadata": {
        "id": "uCuzKMqAvVpN"
      },
      "execution_count": null,
      "outputs": []
    },
    {
      "cell_type": "markdown",
      "source": [
        "1.**Why did you pick the specific chart?**\n",
        "\n",
        "**Answer:** needed count of the numerical feature with large scale for better visulization coutplots is best option"
      ],
      "metadata": {
        "id": "H54PZ_Qtvbni"
      }
    },
    {
      "cell_type": "markdown",
      "source": [
        "**2. What is/are the insight(s) found from the chart?**\n",
        "*   Young people below 30 are not interested in vehicle insurance. Reasons could be lack of experience, less maturity level and they don't have expensive vehicles yet.\n",
        "*   People aged between 30-60 are more likely to be interested."
      ],
      "metadata": {
        "id": "u8BrjL1Tvbkb"
      }
    },
    {
      "cell_type": "markdown",
      "source": [
        "**3. Will the gained insights help creating a positive business impact?** \n",
        "Are there any insights that lead to negative growth? Justify with specific reason."
      ],
      "metadata": {
        "id": "ZmcnrgoVXb_1"
      }
    },
    {
      "cell_type": "markdown",
      "source": [
        "**Answer :** The age group between 40-50 are showing more interest in vehicle insurance than the other age groups which might for segment the customer."
      ],
      "metadata": {
        "id": "9ki0HLx2X_tE"
      }
    },
    {
      "cell_type": "code",
      "source": [
        "#CREATE THE FUNCTIN FOR VISUALIZE PREVIOUSLY INSURED PEOPLE\n",
        "def responce_of_previously_insured_people(df):\n",
        "  sns.countplot(x=df['Previously_Insured'],hue='Response',data=df,palette='Set2')\n",
        "  plt.title(\"Preference of Previously insured people\")"
      ],
      "metadata": {
        "id": "-WNdGOB9vVj1"
      },
      "execution_count": null,
      "outputs": []
    },
    {
      "cell_type": "code",
      "source": [
        "responce_of_previously_insured_people(df)"
      ],
      "metadata": {
        "id": "BkJdBTVNvVgh"
      },
      "execution_count": null,
      "outputs": []
    },
    {
      "cell_type": "markdown",
      "source": [
        "**1.Why did you pick the specific chart?**\n",
        "\n",
        "**Answer:** we have to count the values from each categories."
      ],
      "metadata": {
        "id": "sVXkEih-vkbq"
      }
    },
    {
      "cell_type": "markdown",
      "source": [
        "**2. What is/are the insight(s) found from the chart?**"
      ],
      "metadata": {
        "id": "dBJDAcxnYPJf"
      }
    },
    {
      "cell_type": "markdown",
      "source": [
        "**Answer:** \n",
        "<br> (1) Customers who have not taken vehicle insurance previously are more interested in taking the vehicle_insurance.\n",
        "<br>(2) Customers who have already taken vehicle insurance, very few of them are interested only 0.09%."
      ],
      "metadata": {
        "id": "7NL7WnubYXZd"
      }
    },
    {
      "cell_type": "markdown",
      "source": [
        "**3. Will the gained insights help creating a positive business impact?**\n",
        "Are there any insights that lead to negative growth? Justify with specific reason."
      ],
      "metadata": {
        "id": "hSxah7gYYkDp"
      }
    },
    {
      "cell_type": "markdown",
      "source": [
        "**Answer**: Yes, because it gives the information that most the customer are interested are not previously insured."
      ],
      "metadata": {
        "id": "lS8tgcfjYpgC"
      }
    },
    {
      "cell_type": "code",
      "source": [
        "# CHECKING PREVIOUSLY INSURED IN THE FORM OF PERCENTAGE\n",
        "def pie_for_Previously_Insured(df):\n",
        "  plt.figure(figsize=(14,7))\n",
        "  df['Previously_Insured'].value_counts().plot( kind='pie',autopct='%.0f%%',shadow = True)"
      ],
      "metadata": {
        "id": "iJIJqtiKvVd4"
      },
      "execution_count": null,
      "outputs": []
    },
    {
      "cell_type": "code",
      "source": [
        "#CALL CREATED FUNCTION\n",
        "pie_for_Previously_Insured(df)"
      ],
      "metadata": {
        "id": "N2xhYYAtvVbI"
      },
      "execution_count": null,
      "outputs": []
    },
    {
      "cell_type": "markdown",
      "source": [
        "**Why did you pick the specific chart?**\n",
        "\n",
        "**Answer** to know the percentage of previously insured people pie chart is the best options .\n"
      ],
      "metadata": {
        "id": "T5cS-CU7vv7X"
      }
    },
    {
      "cell_type": "markdown",
      "source": [
        "**Inference**\n",
        "* Customer who are not perviosly insured are likely to be inetrested\n",
        "\n",
        "* Around 54% of the customers does not have the vehicle insurance while 46% of the customers already have it."
      ],
      "metadata": {
        "id": "5zoMIsxzvv3c"
      }
    },
    {
      "cell_type": "code",
      "source": [
        "#CREATE A FUNCTION WHO HAVE ALREADY DRIVING LICENSE\n",
        "def response_of_people_owning_driving_license(df):\n",
        "  sns.countplot(x=df['Driving_License'],hue=df['Response'])\n",
        "  plt.title(\"Preference of people owing a driving license\")"
      ],
      "metadata": {
        "id": "zLEmSEKmvVYb"
      },
      "execution_count": null,
      "outputs": []
    },
    {
      "cell_type": "code",
      "source": [
        "response_of_people_owning_driving_license(df)"
      ],
      "metadata": {
        "id": "PIhOVAjYvVVm"
      },
      "execution_count": null,
      "outputs": []
    },
    {
      "cell_type": "markdown",
      "source": [
        "**1.Why did you pick the specific chart?**\n",
        "\n",
        "**Answer :** In this case variable is both the variable is categorical (Response, Driving_license) Hence we use countplot."
      ],
      "metadata": {
        "id": "GgMkU6fyv6n9"
      }
    },
    {
      "cell_type": "markdown",
      "source": [
        "**2. What is/are the insight(s) found from the chart?**\n",
        "\n",
        "**Answer**\n",
        "* 41 customer out of the customer who do not have driving license were still interested in the vehicle insurance.\n",
        "\n",
        "* 812 Customers does not have the driving license.\n",
        "\n",
        "* out of the 380297 customer who does  have license , 46669 were interested in vehicle Insurance\n",
        "* Customers who are interested in Vehicle Insurance almost all have driving license"
      ],
      "metadata": {
        "id": "HNMSaJe7ZHRE"
      }
    },
    {
      "cell_type": "markdown",
      "source": [
        "**3. Will the gained insights help creating a positive business impact?**\n",
        "Are there any insights that lead to negative growth? Justify with specific reason.\n",
        "\n",
        "**Answer:** Yes, targeting customer having deiving license have more chances to get positive response.\n"
      ],
      "metadata": {
        "id": "nhkuK9nqabbE"
      }
    },
    {
      "cell_type": "code",
      "source": [
        "# PLOTTING THE REGION CODE TOP 10 ENTRIES\n",
        "def region_wise(df):\n",
        "  plt.figure(figsize=(14,7))\n",
        "  df['Region_Code'].value_counts().nlargest(10).plot(kind='pie',autopct='%.0f%%',shadow = True);"
      ],
      "metadata": {
        "id": "1befBt3cvVTL"
      },
      "execution_count": null,
      "outputs": []
    },
    {
      "cell_type": "code",
      "source": [
        " #CALL THE CREATED FUNCTION\n",
        " region_wise(df)"
      ],
      "metadata": {
        "id": "Mcgqg3sjvVQB"
      },
      "execution_count": null,
      "outputs": []
    },
    {
      "cell_type": "markdown",
      "source": [
        "\n",
        " **1.Why did you pick the specific chart?**\n",
        "\n",
        "**Answer :** To know the percentage of regionwise people pie chart is the best option\n"
      ],
      "metadata": {
        "id": "xV28VGVnwByf"
      }
    },
    {
      "cell_type": "markdown",
      "source": [
        "**2. Will the gained insights help creating a positive business impact?**\n",
        "Are there any insights that lead to negative growth? Justify with specific reason.\n",
        "\n",
        "\n",
        "*  Most of the policyholders belong to the region that has region code 28 that is 44%.\n",
        "*   second most the policyholders belong to the region that has region code 8 that is 14 %\n",
        "\n",
        "* the top 5 region having maximum number of customer are not same as the top 5 region having positive response."
      ],
      "metadata": {
        "id": "047F3Gm6wBvn"
      }
    },
    {
      "cell_type": "code",
      "source": [
        "#FINDING RELATION BETWEEN VEHICAL AGE AND RESPONCE\n",
        "def relation_between_vehical_age_and_responce(df):\n",
        "   sns.countplot(x='Vehicle_Age',hue='Response',data=df)\n",
        "   plt.title(\"Responses of owners based on the life of their car\")"
      ],
      "metadata": {
        "id": "bgydzH-8vVNs"
      },
      "execution_count": null,
      "outputs": []
    },
    {
      "cell_type": "code",
      "source": [
        " #CALL THE FUNCTION\n",
        " relation_between_vehical_age_and_responce(df)"
      ],
      "metadata": {
        "id": "NsDyeenivVK2"
      },
      "execution_count": null,
      "outputs": []
    },
    {
      "cell_type": "markdown",
      "source": [
        "**1.Why did you pick the specific chart?**\n",
        "\n",
        "**Answer :** To know the combine responce vehical age wise counts we have to use countplots "
      ],
      "metadata": {
        "id": "D-rzXGyJwICI"
      }
    },
    {
      "cell_type": "markdown",
      "source": [
        "**2. Will the gained insights help creating a positive business impact?** Are there any insights that lead to negative growth? Justify with specific reason.\n",
        "* Customers with vechicle age 1-2 years are more likely to interested as compared to the other two\n",
        "\n",
        "* Customers with with Vehicle_Age <1 years have very less chance of buying Insurance"
      ],
      "metadata": {
        "id": "b65AlY-rwJTY"
      }
    },
    {
      "cell_type": "code",
      "source": [
        "#FINDIND THE CORRELATION IN ENTIRE DATASETS\n",
        "def CORRELATION_HEATMAP(df):\n",
        "  fig, ax = plt.subplots(figsize=(15,10))\n",
        "  sns.heatmap(df.corr(), annot= True,ax=ax)\n",
        "  plt.title(\"Pearson correlation of Features\", y=1.05, size=15)"
      ],
      "metadata": {
        "id": "B46ZpmJtvVIR"
      },
      "execution_count": null,
      "outputs": []
    },
    {
      "cell_type": "code",
      "source": [
        "CORRELATION_HEATMAP(df)"
      ],
      "metadata": {
        "id": "nM9mOw8EvVGD"
      },
      "execution_count": null,
      "outputs": []
    },
    {
      "cell_type": "markdown",
      "source": [
        "**Why did you pick the specific chart?**\n",
        "\n",
        "**Answer**\n",
        "To plot corelation matrix and identify the correlation value among the various plot."
      ],
      "metadata": {
        "id": "Lkum6oHWwQN9"
      }
    },
    {
      "cell_type": "markdown",
      "source": [
        "**Observation Summery Fron Exploratory data analysis**"
      ],
      "metadata": {
        "id": "21R82vggwQIh"
      }
    },
    {
      "cell_type": "markdown",
      "source": [
        "\n",
        "\n",
        "*   The dataset is unbalanced, having only 12.26 % of customer are interested in vehicle insurance.\n",
        "*   only 41 person out of total who showed interest does not driving license.\n",
        "*   The median age of people not having driving license is approximately 65 but approximately 30 for people having driving license.\n",
        "*   From Customer who responded positively, The median age is approximately 55 for customer having no license and approximately 40 for having license.\n",
        "*   the top 3 policy_sales_channel who contacted most of the customers are 152,26,54 and the top 3 through which maximum positive response were observed are 26,124,152.\n",
        "*   Customers who have not taken vehicle insurance previously are more interested in taking the vehicle_insurance.\n",
        "\n",
        "*  Approximately 74.5% of people who responded positively have vehicle age in between 1-2 years."
      ],
      "metadata": {
        "id": "SYhzcVZEX4uS"
      }
    },
    {
      "cell_type": "markdown",
      "source": [
        "## 3.***DATA PREPRATION AND FEATURES ENGINEERING***"
      ],
      "metadata": {
        "id": "tzsr5p3xaWNq"
      }
    },
    {
      "cell_type": "markdown",
      "source": [
        "**Handling missing values**"
      ],
      "metadata": {
        "id": "h-YtiiG0o3LK"
      }
    },
    {
      "cell_type": "code",
      "source": [
        "#CHECKING FOR MISSING VALUES.\n",
        "df.isnull().sum()"
      ],
      "metadata": {
        "id": "96JrDajUo2d4"
      },
      "execution_count": null,
      "outputs": []
    },
    {
      "cell_type": "markdown",
      "source": [
        "**Handling Outliers**"
      ],
      "metadata": {
        "id": "lX5LzUYFpUVu"
      }
    },
    {
      "cell_type": "code",
      "source": [
        "# Handling Outliers & Outlier treatments\n",
        "sns.boxplot(df['Annual_Premium'])"
      ],
      "metadata": {
        "id": "CKspKYdzpiOm"
      },
      "execution_count": null,
      "outputs": []
    },
    {
      "cell_type": "code",
      "source": [
        "# SINCE THERE ARE MANY OUTLIERS THAT CAN BE SEEN IN THE ANNUAL PREMIUM FEATURE SO REMOVE BY USING IQR METOD\n",
        "def OutlierRemovaIQR(df,col):\n",
        "    first_Quartile = df[col].quantile(0.25)\n",
        "    third_Quartile = df[col].quantile(0.75)\n",
        "    IQR = third_Quartile - first_Quartile\n",
        "    low_lim = first_Quartile - 1.5 * IQR\n",
        "    # considering minimum trip_duration of 15 second atleast\n",
        "    if low_lim >=0:\n",
        "      lower_lim = low_lim\n",
        "    else:\n",
        "      lower_lim = 0\n",
        "    upper_limit = third_Quartile + 1.5* IQR\n",
        "  \n",
        "    df1 = df[(df[col]>lower_lim) & (df[col] < upper_limit)]\n",
        "    data_loss = df.shape[0]-df1.shape[0]\n",
        "    print(\"data loss by IQR method \", data_loss*100/df.shape[0])\n",
        "    return df1\n"
      ],
      "metadata": {
        "id": "iRl-WRsEpzt-"
      },
      "execution_count": null,
      "outputs": []
    },
    {
      "cell_type": "code",
      "source": [
        "data1 = OutlierRemovaIQR(df,'Annual_Premium')"
      ],
      "metadata": {
        "id": "g52u6iwlq0QY"
      },
      "execution_count": null,
      "outputs": []
    },
    {
      "cell_type": "markdown",
      "source": [
        "**What all outlier treatment techniques have you used and why did you use those techniques?**\n",
        "\n",
        "**Answer:** we use inter quartile range technique for outlier removal using the Annual_Prremium feature."
      ],
      "metadata": {
        "id": "KX9h0avNrLnR"
      }
    },
    {
      "cell_type": "code",
      "source": [
        "df.head()"
      ],
      "metadata": {
        "id": "rW1XFmCDsuQx"
      },
      "execution_count": null,
      "outputs": []
    },
    {
      "cell_type": "code",
      "source": [
        "#CHANGING CATEGORICAL VALUES TO BINARY FORM(0 AND 1) USING LABELENCODER\n",
        "labelEncoder= LabelEncoder()\n",
        "df['Gender'] = labelEncoder.fit_transform(df['Gender'])\n",
        "df['Vehicle_Age'] = labelEncoder.fit_transform(df['Vehicle_Age'])\n",
        "df['Vehicle_Damage'] = labelEncoder.fit_transform(df['Vehicle_Damage'])"
      ],
      "metadata": {
        "id": "wxUPDfQUvVAq"
      },
      "execution_count": null,
      "outputs": []
    },
    {
      "cell_type": "markdown",
      "source": [
        "**Separating dependent and independent variable**"
      ],
      "metadata": {
        "id": "DPzoZqYOzWPz"
      }
    },
    {
      "cell_type": "code",
      "source": [
        "#SET THE DEPENDENT AND INDEPENDENT VARIABLE\n",
        "y=df['Response']   \n",
        "X=df.drop(columns='Response')"
      ],
      "metadata": {
        "id": "disw6WMKzaTM"
      },
      "execution_count": null,
      "outputs": []
    },
    {
      "cell_type": "markdown",
      "source": [
        "**FEATURE SELECTION**"
      ],
      "metadata": {
        "id": "7WPv9a_aziQ8"
      }
    },
    {
      "cell_type": "code",
      "source": [
        "from sklearn.ensemble import ExtraTreesClassifier\n",
        "#FIT THE MODEL FOR CHECKING FEATURES IMPORTANCE\n",
        "model=ExtraTreesClassifier()\n",
        "model.fit(X,y)"
      ],
      "metadata": {
        "id": "ZXQAevJ_zaQl"
      },
      "execution_count": null,
      "outputs": []
    },
    {
      "cell_type": "code",
      "source": [
        "#CHECK THE FEATURS IMPORTANCE AND DROP LESS IMPORTANCE FEATURE\n",
        "model.feature_importances_\n",
        "feat_importances=pd.Series(model.feature_importances_,index=X.columns) #we save the value in pandas series\n",
        "feat_importances.nlargest(11).plot(kind='bar')"
      ],
      "metadata": {
        "id": "b7mEiawdzaML"
      },
      "execution_count": null,
      "outputs": []
    },
    {
      "cell_type": "code",
      "source": [
        "feat_importances"
      ],
      "metadata": {
        "id": "yGXnlPWfzaHv"
      },
      "execution_count": null,
      "outputs": []
    },
    {
      "cell_type": "code",
      "source": [
        "#FEATUR DRIVING LICENSE HAS NO MORE FEATURE IMPORTANCE \n",
        "X=X.drop(['Driving_License'],axis=1) "
      ],
      "metadata": {
        "id": "BXNBOwgNzze8"
      },
      "execution_count": null,
      "outputs": []
    },
    {
      "cell_type": "markdown",
      "source": [
        "**HANDLING CLASS IMBALANCE**"
      ],
      "metadata": {
        "id": "bZEIEZXdz-sO"
      }
    },
    {
      "cell_type": "code",
      "source": [
        "#CHECKING FOR CLASS IMBALANCE\n",
        "ranadomsampler=RandomOverSampler()\n",
        "X_new,y_new=ranadomsampler.fit_resample(X,y)"
      ],
      "metadata": {
        "id": "VHp4d-MczaFJ"
      },
      "execution_count": null,
      "outputs": []
    },
    {
      "cell_type": "code",
      "source": [
        "from collections import Counter\n",
        "print(\"original dataset{}\".format(Counter(y)))\n",
        "print(\"Resample dataset{}\".format(Counter(y_new)))\n",
        "sns.countplot(x=y_new)"
      ],
      "metadata": {
        "id": "Zm0K4uhvzZ_T"
      },
      "execution_count": null,
      "outputs": []
    },
    {
      "cell_type": "markdown",
      "source": [
        "**TRAIN TEST SPLIT**"
      ],
      "metadata": {
        "id": "JMAFsCUE0Zyk"
      }
    },
    {
      "cell_type": "code",
      "source": [
        "#DIVIDE THE DATASETS INTO TRAINING AND TESTING SET\n",
        "X_train,X_test,y_train,y_test=train_test_split(X_new,y_new,test_size=0.2,random_state=0)\n",
        "print(X_train.shape,X_test.shape,y_train.shape,y_test.shape)\n",
        "\n",
        "#PERFORM FEATURE SCALING \n",
        "from sklearn.preprocessing import StandardScaler\n",
        "scaler=StandardScaler()\n",
        "X_train=scaler.fit_transform(X_train)\n",
        "X_test=scaler.transform(X_test)"
      ],
      "metadata": {
        "id": "vHMDvcKE0TXy"
      },
      "execution_count": null,
      "outputs": []
    },
    {
      "cell_type": "markdown",
      "source": [
        "#**4. MODEL IMPLEMENTATION**"
      ],
      "metadata": {
        "id": "Qd1oIi9D0iG0"
      }
    },
    {
      "cell_type": "markdown",
      "source": [
        "**MODEL 1- LOGISTIC REGRESSION**"
      ],
      "metadata": {
        "id": "OLEdLSQUsYs5"
      }
    },
    {
      "cell_type": "code",
      "source": [
        "# ML MODEL IMPLEMENTATION\n",
        "lr=LogisticRegression() \n",
        "# FIT THE ALGORITHAM\n",
        "lr=lr.fit(X_train,y_train) \n",
        "\n",
        "# PREDICT ON THE MODEL\n",
        "y_pred1=lr.predict(X_test)   \n",
        "y_pred1"
      ],
      "metadata": {
        "id": "6BSlQ5rt0TiI"
      },
      "execution_count": null,
      "outputs": []
    },
    {
      "cell_type": "markdown",
      "source": [
        "#### 1. Explain the ML Model used and it's performance using Evaluation metric Score Chart."
      ],
      "metadata": {
        "id": "meXe_sWCqzWQ"
      }
    },
    {
      "cell_type": "code",
      "source": [
        "#EVALUATION METRICS SCORE\n",
        "lr_probability =lr.predict_proba(X_test)[:,1]\n",
        "lr_accu=accuracy_score(y_test,y_pred1)\n",
        "recall_lr=recall_score(y_test,y_pred1)\n",
        "pricision_lr=precision_score(y_test,y_pred1)\n",
        "lr_f1score=f1_score(y_test,y_pred1)\n",
        "Auc_lr=roc_auc_score(y_pred1,y_test)"
      ],
      "metadata": {
        "id": "qKB8G5nB0TsY"
      },
      "execution_count": null,
      "outputs": []
    },
    {
      "cell_type": "code",
      "source": [
        "print(\"Accuracy :\",lr_accu)\n",
        "\n",
        "print(\"Roc_Auc_lr:\",Auc_lr)"
      ],
      "metadata": {
        "id": "eMiuThcA0Tya"
      },
      "execution_count": null,
      "outputs": []
    },
    {
      "cell_type": "code",
      "source": [
        "#CHECKING CLASSIFICATION REPORT\n",
        "print(classification_report(y_pred1,y_test))"
      ],
      "metadata": {
        "id": "TYSyagiw0T2E"
      },
      "execution_count": null,
      "outputs": []
    },
    {
      "cell_type": "markdown",
      "source": [
        "**ROC CURVE**"
      ],
      "metadata": {
        "id": "A0D_VeKE1Ix1"
      }
    },
    {
      "cell_type": "code",
      "source": [
        "#PLOT ROC CURVE\n",
        "from sklearn.metrics import roc_curve\n",
        "fpr, tpr, _ = roc_curve(y_test, lr_probability)\n",
        "\n",
        "plt.title('Logistics Regression ROC curve')\n",
        "plt.xlabel('FPR (Precision)')\n",
        "plt.ylabel('TPR (Recall)')\n",
        "\n",
        "plt.plot(fpr,tpr)\n",
        "plt.plot((0,1), ls='dashed',color='black')\n",
        "plt.show()"
      ],
      "metadata": {
        "id": "pOvdSCYm0T5v"
      },
      "execution_count": null,
      "outputs": []
    },
    {
      "cell_type": "code",
      "source": [
        "#CONFUSION MATRIX\n",
        "cm=confusion_matrix(y_test,y_pred1)\n",
        "print(cm)\n",
        "sns.heatmap(cm,annot=True,fmt ='d')"
      ],
      "metadata": {
        "id": "cCi6VRIv0T8T"
      },
      "execution_count": null,
      "outputs": []
    },
    {
      "cell_type": "code",
      "source": [
        "#finding training and testing accuracy\n",
        "y_train_pred=lr.predict(X_train)\n",
        "y_test_pred=lr.predict(X_test)"
      ],
      "metadata": {
        "id": "KOfjyfLaUOuG"
      },
      "execution_count": null,
      "outputs": []
    },
    {
      "cell_type": "code",
      "source": [
        "#finding training and testing accuracy\n",
        "train_accuracy=accuracy_score(y_train,y_train_pred)\n",
        "test_accuracy=accuracy_score(y_test,y_test_pred)"
      ],
      "metadata": {
        "id": "cud2a_2vjmJY"
      },
      "execution_count": null,
      "outputs": []
    },
    {
      "cell_type": "code",
      "source": [
        "train_accuracy"
      ],
      "metadata": {
        "id": "luhJ_cJok0HD"
      },
      "execution_count": null,
      "outputs": []
    },
    {
      "cell_type": "code",
      "source": [
        "test_accuracy"
      ],
      "metadata": {
        "id": "w4tSldR9k2O7"
      },
      "execution_count": null,
      "outputs": []
    },
    {
      "cell_type": "markdown",
      "source": [
        "**LOGISTIC REGRESSION WITH GRIDSEARCH CV AND CROSS VALIDATION**"
      ],
      "metadata": {
        "id": "D1Y8ml5u1W3k"
      }
    },
    {
      "cell_type": "code",
      "source": [
        "# ML Model - 1 Implementation with hyperparameter optimization techniques\n",
        "lr=LogisticRegression() \n",
        "parameter={'penalty':['l1', 'l2', 'elasticnet'],\n",
        "           'C':[0.1,0.2,0.3,1,2,3,4,5,6,10,20,30,40,50],\n",
        "           'max_iter':[100,200,300,400]}\n",
        "gv=GridSearchCV(lr, param_grid=parameter,scoring='accuracy',cv=5)  \n",
        "\n",
        "# Fit the Algorithm with gridsearchCv\n",
        "gv.fit(X_train,y_train)         "
      ],
      "metadata": {
        "id": "awP_eKPI0T_T"
      },
      "execution_count": null,
      "outputs": []
    },
    {
      "cell_type": "code",
      "source": [
        "# Predict on the model\n",
        "y_pred1_gv=gv.predict(X_test)"
      ],
      "metadata": {
        "id": "R3kreXDp1wmu"
      },
      "execution_count": null,
      "outputs": []
    },
    {
      "cell_type": "code",
      "source": [
        "score=accuracy_score(y_test,y_pred1_gv)\n",
        "score"
      ],
      "metadata": {
        "id": "9wKcLmjN13tv"
      },
      "execution_count": null,
      "outputs": []
    },
    {
      "cell_type": "code",
      "source": [
        "gv.best_params_"
      ],
      "metadata": {
        "id": "FYBlkggY13rG"
      },
      "execution_count": null,
      "outputs": []
    },
    {
      "cell_type": "code",
      "source": [
        "#Evaluation metric Score Chart.\n",
        "lr_probability_gv =gv.predict_proba(X_test)[:,1]\n",
        "lr_accu_gv=accuracy_score(y_test,y_pred1_gv)\n",
        "recall_lr_gv=recall_score(y_test,y_pred1_gv)\n",
        "pricision_lr_gv=precision_score(y_test,y_pred1_gv)\n",
        "lr_f1score_gv=f1_score(y_test,y_pred1_gv)\n",
        "Auc_lr_gv=roc_auc_score(y_pred1_gv,y_test)"
      ],
      "metadata": {
        "id": "gvVngpQTwX1T"
      },
      "execution_count": null,
      "outputs": []
    },
    {
      "cell_type": "code",
      "source": [
        "print(classification_report(y_pred1_gv,y_test))"
      ],
      "metadata": {
        "id": "P79d4hr9wPc0"
      },
      "execution_count": null,
      "outputs": []
    },
    {
      "cell_type": "markdown",
      "source": [
        "**ROV CURVE**"
      ],
      "metadata": {
        "id": "ruwmF9CKxYVg"
      }
    },
    {
      "cell_type": "code",
      "source": [
        "#ROC CURVE\n",
        "fpr, tpr, _ = roc_curve(y_test, lr_probability_gv)\n",
        "\n",
        "plt.title('Logistics Regression ROC curve')\n",
        "plt.xlabel('FPR (Precision)')\n",
        "plt.ylabel('TPR (Recall)')\n",
        "\n",
        "plt.plot(fpr,tpr)\n",
        "plt.plot((0,1), ls='dashed',color='black')\n",
        "plt.show()"
      ],
      "metadata": {
        "id": "qfnO6csgwXui"
      },
      "execution_count": null,
      "outputs": []
    },
    {
      "cell_type": "code",
      "source": [
        "#CONFUSION MATRIX\n",
        "cm=confusion_matrix(y_test,y_pred1_gv)\n",
        "print(cm)\n",
        "sns.heatmap(cm,annot=True,fmt ='d')"
      ],
      "metadata": {
        "id": "pZTobTCuwXrZ"
      },
      "execution_count": null,
      "outputs": []
    },
    {
      "cell_type": "code",
      "source": [
        "#finding training and testing accuracy\n",
        "y_train_pred_gv=gv.predict(X_train)\n",
        "y_test_pred_gv=gv.predict(X_test)"
      ],
      "metadata": {
        "id": "0cplicFudXZL"
      },
      "execution_count": null,
      "outputs": []
    },
    {
      "cell_type": "markdown",
      "source": [
        "**MODEL 2** RANDOM FOREST CLASSIFIER"
      ],
      "metadata": {
        "id": "8hkXonL72Bcn"
      }
    },
    {
      "cell_type": "code",
      "source": [
        "#MODEL IMPLEMENTATION\n",
        "rf=RandomForestClassifier()\n",
        "#FIT THE ALGORITHAM\n",
        "rf=rf.fit(X_train,y_train)\n",
        "# PREDICT ON THE MODEL\n",
        "y_pred2=rf.predict(X_test)\n"
      ],
      "metadata": {
        "id": "YZewVsYN13lt"
      },
      "execution_count": null,
      "outputs": []
    },
    {
      "cell_type": "markdown",
      "source": [
        "#### 1. Explain the ML Model used and it's performance using Evaluation metric Score Chart."
      ],
      "metadata": {
        "id": "s_y94nlCyn5s"
      }
    },
    {
      "cell_type": "code",
      "source": [
        "#EVALUATION METRIC SCORE \n",
        "rf_accu=accuracy_score(y_test,y_pred2)\n",
        "rf_precision=precision_score(y_test,y_pred2)\n",
        "reacall_rf=recall_score(y_test,y_pred2)\n",
        "Auc_rf=roc_auc_score(y_pred2,y_test)\n",
        "\n",
        "rf_f1score=f1_score(y_test,y_pred2)\n",
        "rf_f1score=f1_score(y_test,y_pred2)\n",
        "rf_probability =rf.predict_proba(X_test)[:,1]"
      ],
      "metadata": {
        "id": "ZkYkSQ5W2VQE"
      },
      "execution_count": null,
      "outputs": []
    },
    {
      "cell_type": "code",
      "source": [
        "print(\"Accuracy :\",rf_accu)\n",
        "print(\"Roc_Auc_lr:\",Auc_rf)"
      ],
      "metadata": {
        "id": "zU3aeVxw2VM7"
      },
      "execution_count": null,
      "outputs": []
    },
    {
      "cell_type": "code",
      "source": [
        "lr_f1score=f1_score(y_test,y_pred2)"
      ],
      "metadata": {
        "id": "kj8dQo3L0Tg0"
      },
      "execution_count": null,
      "outputs": []
    },
    {
      "cell_type": "code",
      "source": [
        "#finding training and testing accuracy\n",
        "y_train_pred=rf.predict(X_train)\n",
        "y_test_pred=rf.predict(X_test)"
      ],
      "metadata": {
        "id": "NWj-Aul-fasc"
      },
      "execution_count": null,
      "outputs": []
    },
    {
      "cell_type": "code",
      "source": [
        "print(y_train_pred)\n",
        "print(y_test_pred)"
      ],
      "metadata": {
        "id": "sOQZB_7Yf1PZ"
      },
      "execution_count": null,
      "outputs": []
    },
    {
      "cell_type": "code",
      "source": [
        "#ROC CURVE \n",
        "fpr, tpr,_= roc_curve(y_test, rf_probability)\n",
        "\n",
        "plt.title('Random forest ROC curve')\n",
        "plt.xlabel('FPR (Precision)')\n",
        "plt.ylabel('TPR (Recall)')\n",
        "\n",
        "plt.plot(fpr,tpr)\n",
        "plt.plot((0,1), ls='dashed',color='black')\n",
        "plt.show()"
      ],
      "metadata": {
        "id": "TMDCvSjZ287U"
      },
      "execution_count": null,
      "outputs": []
    },
    {
      "cell_type": "code",
      "source": [
        "cm=confusion_matrix(y_pred2,y_test)\n",
        "print(cm)\n",
        "sns.heatmap(cm,annot=True,fmt='d')"
      ],
      "metadata": {
        "id": "SJozqMTM284c"
      },
      "execution_count": null,
      "outputs": []
    },
    {
      "cell_type": "markdown",
      "source": [
        "**RANDOM FOREST WITH RANDOMIZED CV**"
      ],
      "metadata": {
        "id": "JrNS_Ubx3Txm"
      }
    },
    {
      "cell_type": "code",
      "source": [
        "rf=RandomForestClassifier()\n",
        "parameter = {'max_depth' : [8,10,11,13], 'n_estimators':[100,150,200,250],\n",
        "             'min_samples_split': [100,150,200,300]}\n",
        "rand = RandomizedSearchCV(estimator = rf, param_distributions = parameter,\n",
        "                          n_iter = 5, cv = 3,random_state= 42,n_jobs = -1,\n",
        "                          refit=True, return_train_score = True)\n",
        "rand.fit(X_train,y_train)"
      ],
      "metadata": {
        "id": "BsI6zY0_281U"
      },
      "execution_count": null,
      "outputs": []
    },
    {
      "cell_type": "code",
      "source": [
        "y_pred2_cv=rand.predict(X_test)"
      ],
      "metadata": {
        "id": "CZLFPg_m28vq"
      },
      "execution_count": null,
      "outputs": []
    },
    {
      "cell_type": "code",
      "source": [
        "score=accuracy_score(y_test,y_pred2_cv)  #dott correct\n",
        "score"
      ],
      "metadata": {
        "id": "t00YRAA128tC"
      },
      "execution_count": null,
      "outputs": []
    },
    {
      "cell_type": "code",
      "source": [
        "print(classification_report(y_pred2_cv,y_test))"
      ],
      "metadata": {
        "id": "sX8_eHSE28qI"
      },
      "execution_count": null,
      "outputs": []
    },
    {
      "cell_type": "code",
      "source": [
        "#Evaluation metric Score Chart.\n",
        "rf_accu_cv=accuracy_score(y_test,y_pred2_cv)\n",
        "rf_precision_cv=precision_score(y_test,y_pred2_cv)\n",
        "reacall_rf_cv=recall_score(y_test,y_pred2_cv)\n",
        "Auc_rf_cv=roc_auc_score(y_pred2_cv,y_test)\n",
        "rf_probability_cv=rand.predict_proba(X_test)[:,1]\n",
        "rf_f1_scor=f1_score(y_test,y_pred2_cv)"
      ],
      "metadata": {
        "id": "coeXbZ0pgBjy"
      },
      "execution_count": null,
      "outputs": []
    },
    {
      "cell_type": "code",
      "source": [
        "rf_f1_scor=f1_score(y_test,y_pred2_cv)"
      ],
      "metadata": {
        "id": "WWpID0_F49DE"
      },
      "execution_count": null,
      "outputs": []
    },
    {
      "cell_type": "code",
      "source": [
        "#BEST PARAMETER USED BY OUR MODEL\n",
        "rand.best_params_"
      ],
      "metadata": {
        "id": "ls1GIAVrj4D5"
      },
      "execution_count": null,
      "outputs": []
    },
    {
      "cell_type": "code",
      "source": [
        "#ROC CURVE\n",
        "fpr, tpr,_= roc_curve(y_test, rf_probability_cv)\n",
        "plt.title('Random forest ROC curve')\n",
        "plt.xlabel('FPR (Precision)')\n",
        "plt.ylabel('TPR (Recall)')\n",
        "\n",
        "plt.plot(fpr,tpr)\n",
        "plt.plot((0,1), ls='dashed',color='black')\n",
        "plt.show()"
      ],
      "metadata": {
        "id": "Kj9iC1WZgRL5"
      },
      "execution_count": null,
      "outputs": []
    },
    {
      "cell_type": "code",
      "source": [
        "#CONFUSION MATRIX\n",
        "cm=confusion_matrix(y_pred2_cv,y_test)\n",
        "print(cm)\n",
        "sns.heatmap(cm,annot=True,fmt='d')"
      ],
      "metadata": {
        "id": "jT-wUWfIgRI8"
      },
      "execution_count": null,
      "outputs": []
    },
    {
      "cell_type": "code",
      "source": [],
      "metadata": {
        "id": "GAiCxO6hgRGJ"
      },
      "execution_count": null,
      "outputs": []
    },
    {
      "cell_type": "code",
      "source": [
        "y_train_pred_cv_rf = rand.predict(X_train)\n",
        "y_test_pred_cv_rf = rand.predict(X_test)"
      ],
      "metadata": {
        "id": "Wba-mLRKeCAc"
      },
      "execution_count": null,
      "outputs": []
    },
    {
      "cell_type": "markdown",
      "source": [
        "**MODEL 3. XGB CLASSIFIER**"
      ],
      "metadata": {
        "id": "48LetttA6ob_"
      }
    },
    {
      "cell_type": "code",
      "source": [
        "#model implementation\n",
        "xgb=XGBClassifier()\n",
        "#fit the algoritham\n",
        "xgb.fit(X_train,y_train)\n",
        "#predict on the model\n",
        "y_pred3=xgb.predict(X_test)"
      ],
      "metadata": {
        "id": "JiX6YGju28nP"
      },
      "execution_count": null,
      "outputs": []
    },
    {
      "cell_type": "code",
      "source": [
        "print(classification_report(y_pred3,y_test))"
      ],
      "metadata": {
        "id": "h8vN27Gk28g0"
      },
      "execution_count": null,
      "outputs": []
    },
    {
      "cell_type": "code",
      "source": [
        "xgb_probability=xgb.predict_proba(X_test)[:,1]"
      ],
      "metadata": {
        "id": "_STI_3rQ_D-3"
      },
      "execution_count": null,
      "outputs": []
    },
    {
      "cell_type": "markdown",
      "source": [
        "#### 1. Explain the ML Model used and it's performance using Evaluation metric Score Chart."
      ],
      "metadata": {
        "id": "01nIY1ANfiNd"
      }
    },
    {
      "cell_type": "code",
      "source": [
        "#Evaluation metric score chart\n",
        "xgb_accu=accuracy_score(y_test,y_pred3)\n",
        "xgb_precision=precision_score(y_test,y_pred3)\n",
        "xgb_reacall=recall_score(y_test,y_pred3)\n",
        "xgb_f1score=f1_score(y_test,y_pred3)\n",
        "xgb_Auc=roc_auc_score(y_pred3,y_test)"
      ],
      "metadata": {
        "id": "AkvZVOrO_Hw2"
      },
      "execution_count": null,
      "outputs": []
    },
    {
      "cell_type": "code",
      "source": [
        "print(\"Accuracy :\",xgb_accu)\n",
        "print(\"Roc_Auc_lr:\",xgb_Auc)"
      ],
      "metadata": {
        "id": "xBHSR44u_Hr1"
      },
      "execution_count": null,
      "outputs": []
    },
    {
      "cell_type": "code",
      "source": [
        "fpr,tpr,_=roc_curve(y_test,xgb_probability)\n",
        "plt.title('XGB Roc curve')\n",
        "plt.xlabel('FPR(Precision)')\n",
        "plt.ylabel('TPR(Recall)')\n",
        "plt.plot(fpr,tpr)\n",
        "plt.plot((0,1),ls='dashed',color='black')\n",
        "plt.show()"
      ],
      "metadata": {
        "id": "vJoY2jlO_P--"
      },
      "execution_count": null,
      "outputs": []
    },
    {
      "cell_type": "code",
      "source": [
        "y_train_pred_cv_rf = rand.predict(X_train)\n",
        "y_test_pred_cv_rf = rand.predict(X_test)"
      ],
      "metadata": {
        "id": "Zh2gpNasfWJQ"
      },
      "execution_count": null,
      "outputs": []
    },
    {
      "cell_type": "markdown",
      "source": [
        "**CONFUSION MATRIX**"
      ],
      "metadata": {
        "id": "D5GpLIhi_s6q"
      }
    },
    {
      "cell_type": "code",
      "source": [
        "cm=confusion_matrix(y_test ,y_pred3)\n",
        "print(cm)"
      ],
      "metadata": {
        "id": "a6SofU7M_wXc"
      },
      "execution_count": null,
      "outputs": []
    },
    {
      "cell_type": "code",
      "source": [
        "sns.heatmap(cm,annot=True,fmt='d')"
      ],
      "metadata": {
        "id": "5GxdbxcI_wVH"
      },
      "execution_count": null,
      "outputs": []
    },
    {
      "cell_type": "markdown",
      "source": [
        "**XGB CLASSIFIER WITH RANDOMIZED SEARCH CV**"
      ],
      "metadata": {
        "id": "SQ-ZgjdL_3BM"
      }
    },
    {
      "cell_type": "code",
      "source": [
        "xgbc = XGBClassifier(random_state = 42)\n",
        "parameter = {'max_depth' : [1,2,3,4,5], 'n_estimators':[300,350,500,700],\n",
        "            'learning_rate' :[0.05,0.07,0.1]}\n",
        "# using GridSearchCV will have 4*4*3*4 =192 models so will use RandomizedSearchCv for just 10 models to find the hyperparameter \n",
        "random = RandomizedSearchCV(estimator = xgbc, param_distributions = parameter, n_iter = 5,cv =3, refit = True,random_state= 42,n_jobs = -1, return_train_score = True)\n",
        "random.fit(X_train,y_train)\n",
        "print(random.best_estimator_)\n",
        "y_train_pred_cv = random.predict(X_train)\n",
        "y_test_pred_cv = random.predict(X_test)"
      ],
      "metadata": {
        "id": "cxswyI4L_wSg"
      },
      "execution_count": null,
      "outputs": []
    },
    {
      "cell_type": "code",
      "source": [
        "#PREDICTION\n",
        "y_pred3_cv=random.predict(X_test)"
      ],
      "metadata": {
        "id": "WI65W-j7puK8"
      },
      "execution_count": null,
      "outputs": []
    },
    {
      "cell_type": "markdown",
      "source": [
        "#### 1. Explain the ML Model used and it's performance using Evaluation metric Score Chart."
      ],
      "metadata": {
        "id": "9Z5SF6QmqSom"
      }
    },
    {
      "cell_type": "code",
      "source": [
        "#Evaluation metric score chart\n",
        "xgb_accu_cv=accuracy_score(y_test,y_pred3_cv)\n",
        "xgb_precision_cv=precision_score(y_test,y_pred3_cv)\n",
        "xgb_reacall_cv=recall_score(y_test,y_pred3_cv)\n",
        "xgb_f1score_cv=f1_score(y_test,y_pred3_cv)\n",
        "xgb_Auc=roc_auc_score(y_pred3_cv,y_test)"
      ],
      "metadata": {
        "id": "jaEexeMhqYhr"
      },
      "execution_count": null,
      "outputs": []
    },
    {
      "cell_type": "code",
      "source": [
        "score=accuracy_score(y_pred3_cv,y_test)\n",
        "score"
      ],
      "metadata": {
        "id": "H9QZhbL3kkni"
      },
      "execution_count": null,
      "outputs": []
    },
    {
      "cell_type": "code",
      "source": [
        "xgbv_probability=random.predict_proba(X_test)[:,1]"
      ],
      "metadata": {
        "id": "5oazu4DEq0Dq"
      },
      "execution_count": null,
      "outputs": []
    },
    {
      "cell_type": "code",
      "source": [
        "fpr,tpr,_ =roc_curve(y_test,xgbv_probability)\n",
        "plt.title('XGB Roc curve')\n",
        "plt.xlabel('FPR(Precision)')\n",
        "plt.ylabel('TPR(Recall)')\n",
        "plt.plot(fpr,tpr)\n",
        "plt.plot((0,1),ls='dashed',color='black')\n",
        "plt.show()"
      ],
      "metadata": {
        "id": "0ipLoyeDqIpJ"
      },
      "execution_count": null,
      "outputs": []
    },
    {
      "cell_type": "code",
      "source": [
        "cm=confusion_matrix(y_test ,y_pred3_cv)\n",
        "print(cm)"
      ],
      "metadata": {
        "id": "du4YWuWertze"
      },
      "execution_count": null,
      "outputs": []
    },
    {
      "cell_type": "code",
      "source": [
        "sns.heatmap(cm,annot=True,fmt='d')"
      ],
      "metadata": {
        "id": "DKBQKR9QqIly"
      },
      "execution_count": null,
      "outputs": []
    },
    {
      "cell_type": "code",
      "source": [],
      "metadata": {
        "id": "ZBRqOdQHtHh-"
      },
      "execution_count": null,
      "outputs": []
    },
    {
      "cell_type": "markdown",
      "source": [
        "## ***5.*** ***Future Work (Optional)***"
      ],
      "metadata": {
        "id": "7HOmqegrs8Vb"
      }
    },
    {
      "cell_type": "markdown",
      "source": [
        "### 1. Save the best performing ml model in a pickle file or joblib file format for deployment process."
      ],
      "metadata": {
        "id": "lJDlYqTftGu8"
      }
    },
    {
      "cell_type": "code",
      "source": [
        "# SAVE THE FILE\n",
        "import joblib\n",
        "\n",
        "joblib.dump(rf, 'Random_Forest_Classifier.pkl')"
      ],
      "metadata": {
        "id": "UqysG7vTs7p9"
      },
      "execution_count": null,
      "outputs": []
    },
    {
      "cell_type": "markdown",
      "source": [
        "### 2. Again Load the saved model file and try to predict unseen data for a sanity check."
      ],
      "metadata": {
        "id": "Qu_rMmhHtTLy"
      }
    },
    {
      "cell_type": "code",
      "source": [
        "# LOAD THE FILE AND PREDICT UNSEEN DATA\n",
        "loaded_rf = joblib.load('Random_Forest_Classifier.pkl')\n",
        "loaded_rf"
      ],
      "metadata": {
        "id": "8PbU-74YqIiq"
      },
      "execution_count": null,
      "outputs": []
    },
    {
      "cell_type": "code",
      "source": [
        "data_without_hyperparameter_tunning=pd.DataFrame(data={'models':['Logistic regression','RandomForest','XGBClassifier'],\n",
        "                'Accuracy':[lr_accu,rf_accu,xgb_accu],\n",
        "                'Recall':[recall_lr,reacall_rf,xgb_reacall],\n",
        "                 'Precision':[pricision_lr,rf_precision,xgb_precision],\n",
        "                 'F1score':[lr_f1score,rf_f1score,xgb_f1score]})"
      ],
      "metadata": {
        "id": "rg4ytz4dkQBH"
      },
      "execution_count": null,
      "outputs": []
    },
    {
      "cell_type": "code",
      "source": [
        "rf_f1score=f1_score(y_test,y_pred2)"
      ],
      "metadata": {
        "id": "1O71VNH_xvrc"
      },
      "execution_count": null,
      "outputs": []
    },
    {
      "cell_type": "code",
      "source": [
        "data_without_hyperparameter_tunning"
      ],
      "metadata": {
        "id": "_QlcTefc_wFx"
      },
      "execution_count": null,
      "outputs": []
    },
    {
      "cell_type": "code",
      "source": [
        "data_with_hyperparameter_tunning=pd.DataFrame(data={'models':['Logistic regression','RandomForest','XGBClassifier'],\n",
        "                'Accuracy':[lr_accu_gv,rf_accu,xgb_accu_cv],\n",
        "                'Recall':[recall_lr_gv,reacall_rf,xgb_reacall_cv],\n",
        "                 'Precision':[pricision_lr_gv,rf_precision,xgb_precision_cv],\n",
        "                 'F1score':[lr_f1score_gv,rf_f1score,xgb_f1score_cv]})"
      ],
      "metadata": {
        "id": "P6myo78d3bfz"
      },
      "execution_count": null,
      "outputs": []
    },
    {
      "cell_type": "code",
      "source": [
        "data_with_hyperparameter_tunning"
      ],
      "metadata": {
        "id": "vinkQUZT5ktL"
      },
      "execution_count": null,
      "outputs": []
    },
    {
      "cell_type": "markdown",
      "source": [
        "###Challenge Faces"
      ],
      "metadata": {
        "id": "cdpdmReRRRL9"
      }
    },
    {
      "cell_type": "markdown",
      "source": [
        "* Handling Large dataset.\n",
        "* hyper-parameter tuning were taking a huge amount of time to process.\n",
        "* Memory Optimization during hyperparameter tuning."
      ],
      "metadata": {
        "id": "Fx7-zxuARnqj"
      }
    },
    {
      "cell_type": "markdown",
      "source": [
        "# 6. CONCLUSIONS"
      ],
      "metadata": {
        "id": "o06vkAxWTf3w"
      }
    },
    {
      "cell_type": "markdown",
      "source": [
        "* Features like vintage, Annual_Premium, age are impacting the target variable the most.\n",
        "\n",
        "* Compairing the models on the basis of ROC curve, accuracy, precision, f1_score and recall the RandomForest is giving the best results.\n",
        "\n",
        "* Customers with driving license\n",
        "\n",
        "* The customers who have vehicle with age guarantee for 1-2 years are most interested\n",
        "* Most of the customers are unwilling for getting a vehicle insurance\n",
        "\n",
        "* People of the group 30-50 are the most interested in getting a vehicle insurance\n",
        "\n"
      ],
      "metadata": {
        "id": "MPvLtZs-Tq4E"
      }
    }
  ]
}